{
 "cells": [
  {
   "cell_type": "markdown",
   "metadata": {
    "id": "-ETtu9CvVMDR"
   },
   "source": [
    "<h1>Chapter 7 - Advanced Text Generation Techniques and Tools</h1>\n",
    "<i>Going beyond prompt engineering.</i>\n",
    "\n",
    "<a href=\"https://www.amazon.com/Hands-Large-Language-Models-Understanding/dp/1098150961\"><img src=\"https://img.shields.io/badge/Buy%20the%20Book!-grey?logo=amazon\"></a>\n",
    "<a href=\"https://www.oreilly.com/library/view/hands-on-large-language/9781098150952/\"><img src=\"https://img.shields.io/badge/O'Reilly-white.svg?logo=data:image/svg%2bxml;base64,PHN2ZyB3aWR0aD0iMzQiIGhlaWdodD0iMjciIHZpZXdCb3g9IjAgMCAzNCAyNyIgZmlsbD0ibm9uZSIgeG1sbnM9Imh0dHA6Ly93d3cudzMub3JnLzIwMDAvc3ZnIj4KPGNpcmNsZSBjeD0iMTMiIGN5PSIxNCIgcj0iMTEiIHN0cm9rZT0iI0Q0MDEwMSIgc3Ryb2tlLXdpZHRoPSI0Ii8+CjxjaXJjbGUgY3g9IjMwLjUiIGN5PSIzLjUiIHI9IjMuNSIgZmlsbD0iI0Q0MDEwMSIvPgo8L3N2Zz4K\"></a>\n",
    "<a href=\"https://github.com/HandsOnLLM/Hands-On-Large-Language-Models\"><img src=\"https://img.shields.io/badge/GitHub%20Repository-black?logo=github\"></a>\n",
    "[![Open In Colab](https://colab.research.google.com/assets/colab-badge.svg)](https://colab.research.google.com/github/HandsOnLLM/Hands-On-Large-Language-Models/blob/main/chapter07/Chapter%207%20-%20Advanced%20Text%20Generation%20Techniques%20and%20Tools.ipynb)\n",
    "\n",
    "---\n",
    "\n",
    "This notebook is for Chapter 7 of the [Hands-On Large Language Models](https://www.amazon.com/Hands-Large-Language-Models-Understanding/dp/1098150961) book by [Jay Alammar](https://www.linkedin.com/in/jalammar) and [Maarten Grootendorst](https://www.linkedin.com/in/mgrootendorst/).\n",
    "\n",
    "---\n",
    "\n",
    "<a href=\"https://www.amazon.com/Hands-Large-Language-Models-Understanding/dp/1098150961\">\n",
    "<img src=\"https://raw.githubusercontent.com/HandsOnLLM/Hands-On-Large-Language-Models/main/images/book_cover.png\" width=\"350\"/></a>"
   ]
  },
  {
   "cell_type": "markdown",
   "metadata": {},
   "source": [
    "### [OPTIONAL] - Installing Packages on <img src=\"https://colab.google/static/images/icons/colab.png\" width=100>\n",
    "\n",
    "If you are viewing this notebook on Google Colab (or any other cloud vendor), you need to **uncomment and run** the following codeblock to install the dependencies for this chapter:\n",
    "\n",
    "---\n",
    "\n",
    "💡 **NOTE**: We will want to use a GPU to run the examples in this notebook. In Google Colab, go to\n",
    "**Runtime > Change runtime type > Hardware accelerator > GPU > GPU type > T4**.\n",
    "\n",
    "---\n"
   ]
  },
  {
   "cell_type": "code",
   "execution_count": null,
   "metadata": {},
   "outputs": [
    {
     "name": "stderr",
     "output_type": "stream",
     "text": [
      "'CMAKE_ARGS' is not recognized as an internal or external command,\n",
      "operable program or batch file.\n"
     ]
    }
   ],
   "source": [
    "#%%capture\n",
    "#!pip install langchain>=0.1.17 transformers>=4.40.1 datasets>=2.18.0 accelerate>=0.27.2 sentence-transformers>=2.5.1 duckduckgo-search>=5.2.2 langchain_community"
   ]
  },
  {
   "cell_type": "markdown",
   "metadata": {},
   "source": [
    "Follow this to install llama-cpp-python on windows WITH CUDA: https://python.langchain.com/docs/integrations/llms/llamacpp/<br>\n",
    "Look at the \"Installation with Windows\" section. See how you need to install cmake and some other stuff from Visual Studio Installer.<br>\n",
    "CMake can be downloaded and installed here: https://cmake.org/download/ Make sure you tick the **Add CMake to the system PATH for the current user.** option. Otherwise, follow how to add environment variables below.<br>\n",
    "You will also need to install NVIDIA CUDA developer toolkit **get version 12.5, not 13.0 (unless u check and llama-cpp-python supports it)**.<br>\n",
    "\n",
    "**If you have installed CMake from the Visual Studio Installer:**<br>\n",
    "The issue is that Visual Studio keeps these tools within its own environment and doesn't automatically add them to the system's main PATH variable. This is done to prevent conflicts with other versions of tools you might have installed separately.\n",
    "\n",
    "This means cmake.exe is on your computer, but standard terminals like PowerShell or Command Prompt don't know where to look for it.\n",
    "\n",
    "\n",
    "**Manually Add Visual Studio's CMake to the PATH**<br>\n",
    "You need to find where Visual Studio installed CMake and add that location to your system `PATH`.\n",
    "\n",
    "The path is usually something like: C:\\Program Files\\Microsoft Visual Studio\\<Your_Version>\\<Your_Edition>\\Common7\\IDE\\CommonExtensions\\Microsoft\\CMake\\CMake\\bin\n",
    "\n",
    "For example, for Visual Studio 2022 Community Edition, it would be: C:\\Program Files\\Microsoft Visual Studio\\2022\\Community\\Common7\\IDE\\CommonExtensions\\Microsoft\\CMake\\CMake\\bin\n",
    "\n",
    "**Add this path to your Environment Variables:**\n",
    "* Press the Windows key, type env, and select **\"Edit the system environment variables\"**.\n",
    "* In the System Properties window that opens, click the **\"Environment Variables...\"** button.\n",
    "* In the \"System variables\" section at the bottom, find and select the Path variable, then click **\"Edit...\"**.\n",
    "* Click **\"New\"** and paste the path you copied (C:\\Program Files\\CMake\\bin).\n",
    "* Click **OK** on all the windows to save the changes.<br>\n",
    "\n",
    "**IMPORTANT:** You must close and reopen your VS Code terminal for the changes to take effect. After reopening it, try running `cmake --version` again.\n",
    "\n",
    "\n",
    "**Next, make sure to install \"Desktop Development with C++\" from Visual Studio Installer.**\n",
    "\n",
    "**RESTART YOUR COMPUTER (especially for the NVIDIA CUDA Toolkit to take effect).**"
   ]
  },
  {
   "cell_type": "markdown",
   "metadata": {},
   "source": [
    "Clone git repository recursively to get llama.cpp submodule as well\n",
    "`git clone --recursive -j8 https://github.com/abetlen/llama-cpp-python.git`\n",
    "\n",
    "Open up a command Prompt (use your virtual environment's powershell) and set the following environment variables.\n",
    "<br>`set FORCE_CMAKE=1`\n",
    "\n",
    "Compiling and installing<br>\n",
    "Now you can **cd into the llama-cpp-python directory** and install the package\n",
    "\n",
    "`python -m pip install -e .`\n",
    "\n",
    "IMPORTANT: If you have already installed a cpu only version of the package, you need to reinstall it from scratch: consider the following command:\n",
    "\n",
    "`pip install llama-cpp-python -C cmake.args=\"-DGGML_CUDA=on\" --force-reinstall --no-cache-dir`\n",
    "\n",
    "### It takes 30 minutes or so. Restart the Kernel when you are done."
   ]
  },
  {
   "cell_type": "code",
   "execution_count": null,
   "metadata": {},
   "outputs": [],
   "source": [
    "#!$env:CMAKE_ARGS=\"-DGGML_CUDA=on\"\n",
    "#!pip install llama-cpp-python --no-cache-dir --force-reinstall --upgrade"
   ]
  },
  {
   "cell_type": "markdown",
   "metadata": {
    "id": "rerbJgwAigbK"
   },
   "source": [
    "# Loading an LLM"
   ]
  },
  {
   "cell_type": "code",
   "execution_count": 4,
   "metadata": {},
   "outputs": [],
   "source": [
    "#!wget https://huggingface.co/microsoft/Phi-3-mini-4k-instruct-gguf/resolve/main/Phi-3-mini-4k-instruct-fp16.gguf\n",
    "\n",
    "# If this command does not work for you, you can use the link directly to download the model\n",
    "# https://huggingface.co/microsoft/Phi-3-mini-4k-instruct-gguf/resolve/main/Phi-3-mini-4k-instruct-fp16.gguf"
   ]
  },
  {
   "cell_type": "markdown",
   "metadata": {},
   "source": [
    "3. Post-Installation Runtime Error\n",
    "Problem: FileNotFoundError: Could not find module '...llama.dll' (or one of its dependencies)\n",
    "After a successful installation, you might get this error when trying to import or use LlamaCpp in Python.\n",
    "\n",
    "* Cause: The llama.dll file was built correctly, but the Python runtime cannot find its required NVIDIA dependencies (e.g., cudart64_*.dll).\n",
    "* Solution: Add the CUDA Toolkit's bin directory to your system's PATH environment variable.\n",
    "\n",
    "\n",
    "**How to Add CUDA to the System PATH:**\n",
    "1. Find your CUDA bin folder. The default path is usually: C:\\Program Files\\NVIDIA GPU Computing Toolkit\\CUDA\\v13.0\\bin\n",
    "2. Press the Windows key, type env, and select \"Edit the system environment variables\".\n",
    "3. Click the \"Environment Variables...\" button.\n",
    "4. In the \"System variables\" section, select Path and click \"Edit...\".\n",
    "5. Click \"New\" and paste the CUDA bin path.\n",
    "6. Click OK on all windows to save.\n",
    "7. Crucially, you must completely restart VS Code for the changes to take effect in the terminal and Jupyter Notebook kernel."
   ]
  },
  {
   "cell_type": "code",
   "execution_count": 1,
   "metadata": {
    "id": "LQcht_ZFijW7"
   },
   "outputs": [
    {
     "name": "stderr",
     "output_type": "stream",
     "text": [
      "llama_context: n_batch is less than GGML_KQ_MASK_PAD - increasing to 64\n",
      "llama_context: n_ctx_per_seq (2048) < n_ctx_train (4096) -- the full capacity of the model will not be utilized\n"
     ]
    }
   ],
   "source": [
    "from langchain_community.llms import LlamaCpp\n",
    "\n",
    "# Make sure the model path is correct for your system!\n",
    "llm = LlamaCpp(\n",
    "    model_path=\"Phi-3-mini-4k-instruct-fp16.gguf\",\n",
    "    n_gpu_layers=-1,\n",
    "    max_tokens=500,\n",
    "    n_ctx=2048,\n",
    "    seed=42,\n",
    "    verbose=False\n",
    ")"
   ]
  },
  {
   "cell_type": "code",
   "execution_count": 45,
   "metadata": {
    "colab": {
     "base_uri": "https://localhost:8080/",
     "height": 36
    },
    "executionInfo": {
     "elapsed": 854,
     "status": "ok",
     "timestamp": 1724338298709,
     "user": {
      "displayName": "Maarten Grootendorst",
      "userId": "11015108362723620659"
     },
     "user_tz": -120
    },
    "id": "3SNhQF9WthzV",
    "outputId": "fd062b8a-4643-43a3-afc1-cce9dc338708"
   },
   "outputs": [
    {
     "data": {
      "text/plain": [
       "''"
      ]
     },
     "execution_count": 45,
     "metadata": {},
     "output_type": "execute_result"
    }
   ],
   "source": [
    "llm.invoke(\"Hi! My name is Maarten. What is 1 + 1?\")"
   ]
  },
  {
   "cell_type": "markdown",
   "metadata": {
    "id": "Wwx2AIuGfCoP"
   },
   "source": [
    "### Chains"
   ]
  },
  {
   "cell_type": "code",
   "execution_count": 2,
   "metadata": {
    "id": "kF--Q5me_-X1"
   },
   "outputs": [],
   "source": [
    "from langchain import PromptTemplate\n",
    "\n",
    "# Create a prompt template with the \"input_prompt\" variable\n",
    "template = \"\"\"<|user|>\n",
    "{input_prompt}<|end|>\n",
    "<|assistant|>\"\"\"\n",
    "prompt = PromptTemplate(\n",
    "    template=template,\n",
    "    input_variables=[\"input_prompt\"]\n",
    ")"
   ]
  },
  {
   "cell_type": "code",
   "execution_count": 3,
   "metadata": {
    "id": "ogWsGeg6hElt"
   },
   "outputs": [],
   "source": [
    "basic_chain = prompt | llm"
   ]
  },
  {
   "cell_type": "code",
   "execution_count": 5,
   "metadata": {
    "colab": {
     "base_uri": "https://localhost:8080/",
     "height": 36
    },
    "executionInfo": {
     "elapsed": 894,
     "status": "ok",
     "timestamp": 1724338313078,
     "user": {
      "displayName": "Maarten Grootendorst",
      "userId": "11015108362723620659"
     },
     "user_tz": -120
    },
    "id": "KINQxKAINXgG",
    "outputId": "682d6b12-a4aa-4992-8abe-b23334b2a524"
   },
   "outputs": [
    {
     "data": {
      "text/plain": [
       "' Hello Maarten! The answer to 1 + 1 is 2.'"
      ]
     },
     "execution_count": 5,
     "metadata": {},
     "output_type": "execute_result"
    }
   ],
   "source": [
    "# Use the chain\n",
    "basic_chain.invoke(\n",
    "    {\n",
    "        \"input_prompt\": \"Hi! My name is Maarten. What is 1 + 1?\",\n",
    "    }\n",
    ")"
   ]
  },
  {
   "cell_type": "markdown",
   "metadata": {
    "id": "sSMBMRxB8gFW"
   },
   "source": [
    "### Multiple Chains"
   ]
  },
  {
   "cell_type": "markdown",
   "metadata": {},
   "source": [
    "## Original Notebook uses LLMChain(), which is deprecated. \n",
    "## Below, I, Kelvin, implemented using Runnables. More info here: https://python.langchain.com/docs/versions/migrating_chains/\n",
    "### SEE https://python.langchain.com/docs/concepts/runnables/"
   ]
  },
  {
   "attachments": {
    "image.png": {
     "image/png": "[encoded data removed]"
    }
   },
   "cell_type": "markdown",
   "metadata": {},
   "source": [
    "Input and output types\n",
    "Every Runnable is characterized by an input and output type. <br>These input and output types can be any Python object, and are defined by the Runnable itself.\n",
    "\n",
    "Runnable methods that result in the execution of the Runnable (e.g., invoke, batch, stream, astream_events) work with these input and output types.\n",
    "\n",
    "invoke: Accepts an input and returns an output.\n",
    "batch: Accepts a list of inputs and returns a list of outputs.\n",
    "stream: Accepts an input and returns a generator that yields outputs.<br>\n",
    "The input type and output type vary by component:<br>\n",
    "![image.png](attachment:image.png)"
   ]
  },
  {
   "cell_type": "markdown",
   "metadata": {},
   "source": [
    "| operator pass the output of a Runnable to the next Runnable as input.<br>\n",
    "If next Runnable is a dictionary, the inputs will be passed into each element and ran concurrently (https://python.langchain.com/api_reference/core/runnables/langchain_core.runnables.base.Runnable.html)."
   ]
  },
  {
   "cell_type": "code",
   "execution_count": 4,
   "metadata": {},
   "outputs": [
    {
     "data": {
      "text/plain": [
       "{'summary': 'how to raise babies',\n",
       " 'title': ' \"Nurturing Newborns: A Comprehensive Guide to Raising Happy, Healthy Babies\"'}"
      ]
     },
     "execution_count": 4,
     "metadata": {},
     "output_type": "execute_result"
    }
   ],
   "source": [
    "from langchain_core.runnables import RunnablePassthrough\n",
    "template = \"\"\"<|user|>\n",
    "Create a title for a story about {summary}. Only return the title.<|end|>\n",
    "<|assistant|>\"\"\"\n",
    "# every single component here is a Runnable.\n",
    "title_prompt = PromptTemplate(template=template, input_variables=[\"summary\"]) # takes in a dictionary, outputs a PromptValue\n",
    "title = title_prompt | llm # takes in a string, list of chat messages or a PromptValue and outputs a string\n",
    "title_with_assign = RunnablePassthrough().assign(title=title) # dict packaging of input and output, see https://python.langchain.com/docs/versions/migrating_chains/llm_chain/\n",
    "title_with_assign.invoke({\"summary\": \"how to raise babies\"}) # outputs dictionary with the input and output key and values"
   ]
  },
  {
   "cell_type": "code",
   "execution_count": 5,
   "metadata": {},
   "outputs": [
    {
     "data": {
      "text/plain": [
       "{'summary': 'how to raise babies',\n",
       " 'title': ' \"Nurturing the Future: A Guide to Raising Healthy and Happy Babies\"',\n",
       " 'character': ' The main character of \"Nurturing the Future: A Guide to Raising Healthy and Happy Babies\" is a compassionate, knowledgeable, and patient parent who deeply cares about providing their child with love, guidance, and nourishment from infancy. They are dedicated to understanding the needs of their baby and consistently adapts their approach to ensure optimal physical, emotional, and cognitive development.'}"
      ]
     },
     "execution_count": 5,
     "metadata": {},
     "output_type": "execute_result"
    }
   ],
   "source": [
    "template = \"\"\"<|user|>\n",
    "Describe the main character of a story about {summary} with the title {title}. Use only two sentences.<|end|>\n",
    "<|assistant|>\"\"\"\n",
    "character_prompt = PromptTemplate(\n",
    "    template=template, input_variables=[\"summary\", \"title\"]\n",
    ")\n",
    "character = character_prompt | llm\n",
    "character_with_assign = RunnablePassthrough().assign(character=character)\n",
    "chain = title_with_assign | character_with_assign\n",
    "chain.invoke({\"summary\": \"how to raise babies\"})"
   ]
  },
  {
   "cell_type": "code",
   "execution_count": 8,
   "metadata": {
    "colab": {
     "base_uri": "https://localhost:8080/"
    },
    "executionInfo": {
     "elapsed": 6677,
     "status": "ok",
     "timestamp": 1715331735693,
     "user": {
      "displayName": "Maarten Grootendorst",
      "userId": "11015108362723620659"
     },
     "user_tz": -120
    },
    "id": "b44ZR0vXRaAo",
    "outputId": "f73d9bbc-d126-4aed-8f1c-7ff14d5afa59"
   },
   "outputs": [],
   "source": [
    "template = \"\"\"<|user|>\n",
    "Create a story about {summary} with the title {title}. The main charachter is: {character}. Only return the story and it cannot be longer than one paragraph<|end|>\n",
    "<|assistant|>\"\"\"\n",
    "story_prompt = PromptTemplate(\n",
    "    template=template, input_variables=[\"summary\", \"title\", \"character\"]\n",
    ")\n",
    "story = story_prompt | llm # no need assign here if we just want the story output. yes assign if u want dictionary.\n",
    "story_with_assign = RunnablePassthrough().assign(story=story, length_of_title=lambda x: len(x[\"title\"]))"
   ]
  },
  {
   "cell_type": "code",
   "execution_count": null,
   "metadata": {},
   "outputs": [
    {
     "data": {
      "text/plain": [
       "{'summary': 'a girl that lost her mother',\n",
       " 'title': ' \"The Echoes of Loss: A Girl\\'s Journey Through Grief\"',\n",
       " 'character': ' The main character, Emily, is a resilient and introspective young girl who struggles to cope with the sudden loss of her mother. As she navigates through grief, she embarks on a transformative journey of self-discovery and healing, learning to find solace in cherished memories while forging new connections that help her navigate life without her beloved parent.',\n",
       " 'story': ' \"The Echoes of Loss: A Girl\\'s Journey Through Grief\" chronicles the poignant tale of Emily, a resilient and introspective young girl grappling with the sudden passing of her mother. Plunged into an abyss of grief, Emily finds herself navigating through emotional turmoil as she clings to cherished memories that serve as bittersweet reminders of happier times. Her journey is one marked by self-discovery and healing; it sees her forging new connections with friends who offer solace while gradually learning to navigate life\\'s intricacies without the guiding presence of her beloved parent. Through moments of heartache, Emily uncovers an inner strength she never knew existed, ultimately finding a way to cherish the echoes of love and loss that shape her into the person she is meant to become.',\n",
       " 'length_of_title': 53,\n",
       " 'length_of_story': 798}"
      ]
     },
     "execution_count": 9,
     "metadata": {},
     "output_type": "execute_result"
    }
   ],
   "source": [
    "final = RunnablePassthrough().assign(length_of_story=lambda x: len(x[\"story\"]))\n",
    "chain = title_with_assign | character_with_assign | story_with_assign | final\n",
    "chain.invoke({\"summary\": \"how to raise babies\"})"
   ]
  },
  {
   "cell_type": "markdown",
   "metadata": {},
   "source": [
    "Checkout RunnablePassthrough documentation here: https://python.langchain.com/api_reference/core/runnables/langchain_core.runnables.passthrough.RunnablePassthrough.html<br>\n",
    "You can even use lambda functions in the assign() to customize the values using the inputs from the previous chain."
   ]
  },
  {
   "cell_type": "markdown",
   "metadata": {},
   "source": [
    "Above, every time we execute part of the chain, we pack the input and output into a dictionary using RunnablePassthrough().assign() and output this dictionary. Then we passed this dictionary into the next chain as input.<br><br>\n",
    "Another way is to define dictionaries and chain them either with `| RunnablePassthrough()`s or using `RunnableSequence`.<br><br>\n",
    "Note we need the `| RunnablePassthrough()` after each chain as the outputs after each chain is just a plain ol' dictionary. Adding the `| RunnablePassthrough()` turns it into a Runnable.<br>From https://python.langchain.com/api_reference/core/runnables/langchain_core.runnables.passthrough.RunnablePassthrough.html:<br> _\"Runnable to passthrough inputs unchanged or with additional keys. This Runnable behaves almost like the identity function, except that it can be configured to add additional keys to the output, if the input is a dict.\"_"
   ]
  },
  {
   "cell_type": "markdown",
   "metadata": {},
   "source": [
    "Also note, after `invoke({\"summary\": \"a girl that lost her mother\"})`, the input dictionary (and all its components) is passed CONCURRENTLY into step1, since if Runnable is a dictionary, the inputs will be passed into each element of the dictionary and ran concurrently (https://python.langchain.com/api_reference/core/runnables/langchain_core.runnables.base.Runnable.html). <br>"
   ]
  },
  {
   "cell_type": "code",
   "execution_count": 10,
   "metadata": {},
   "outputs": [
    {
     "name": "stdout",
     "output_type": "stream",
     "text": [
      "without RunnableSequence:\n",
      "{'summary': 'a girl that lost her mother', 'title': ' \"Whispers of a Mother\\'s Love: A Tale of Loss and Resilience\"', 'character': ' The protagonist, Lily, is a resilient and introspective young girl who struggles to cope with the sudden loss of her mother. Despite her grief, she finds solace in cherished memories and pursues personal growth as she navigates through the challenging journey of life without her guiding maternal figure.', 'story': \" Whispers of a Mother's Love: A Tale of Loss and Resilience unfolds with the poignant tale of Lily, whose world was irrevocably altered by her mother’s untimely departure. Engulfed in an ocean of sorrow, she grapples to anchor herself amidst a stormy sea of grief; yet within this tempest of pain and longing lies the seedling of resilience. As days transform into weeks, Lily clings to the cherished whispers her mother left behind—the gentle hum of lullabies in the night, the scent of jasmine lingering on old letters, and echoes of laughter dancing through memory's corridor. Finding solace in these treasures, Lily embarks upon a journey of self-discovery, nurturing her inner strength as she steps forward to weave her own story—one stitched with the enduring love and guidance that echoes beyond life's veil. In this voyage without compass or map, Lily learns not only to live in the absence of her mother but to thrive through the whispers of a mother’s love that continue to whisper hopeful resilience into every new dawn.\", 'length of story': 1031}\n",
      "\n",
      "\n",
      "with RunnableSequence:\n",
      "{'summary': 'a girl that lost her mother', 'title': ' \"Whispers of a Mother\\'s Love: A Journey Through Grief\"', 'character': \" The protagonist, Lily, is a resilient and introspective young girl grappling with the profound loss of her mother. She embarks on an emotional journey to find solace in memories, healing through newfound connections, and understanding that love transcends even death's finality.\", 'story': \" Whispers of a Mother's Love: A Journey Through Grief unfolds the tale of Lily, an introspective and resilient young girl who lost her beloved mother to illness. Haunted by the void left in her heart, yet determined to honor her memory, Lily embarks on an emotional odyssey that takes her through bittersweet memories, each whispered remembrance a step towards healing. As she navigates the labyrinth of grief with courage, she discovers profound connections and revelations along her journey—meeting kindred spirits who help her understand that love endures beyond mortality's boundary, nurturing hope in its embrace. Lily learns to weave the whispers of her mother's love into a tapestry of strength, resilience, and eternal bonds unbroken by loss.\", 'length of story': 750}\n"
     ]
    }
   ],
   "source": [
    "from langchain_core.runnables import RunnableSequence\n",
    "step1 = {\n",
    "    \"title\": title,\n",
    "    \"summary\": lambda x: x[\"summary\"],\n",
    "}\n",
    "step2 = {\n",
    "    \n",
    "    \"title\": lambda x: x[\"title\"],\n",
    "    \"character\": character,\n",
    "    \"summary\": lambda x: x[\"summary\"],\n",
    "}\n",
    "step3 = {\n",
    "    \"summary\": lambda x: x[\"summary\"],\n",
    "    \"title\": lambda x: x[\"title\"],\n",
    "    \"character\": lambda x: x[\"character\"],\n",
    "    \"story\": story,\n",
    "    # \"length of story\": lambda x: len(x[\"story\"]) # NOTE: you can only access items from previous step. You cannot access \"story\" here as step2 does not have the \"story\" key.\n",
    "}\n",
    "step4 = {\n",
    "    \"summary\": lambda x: x[\"summary\"],\n",
    "    \"title\": lambda x: x[\"title\"],\n",
    "    \"character\": lambda x: x[\"character\"],\n",
    "    \"story\": lambda x: x[\"story\"],\n",
    "    \"length of story\": lambda x: len(x[\"story\"])\n",
    "}\n",
    "# so step1, takes in input dictionary, produces a new dictionary with \"title\" and \"summary\" and turned into a Runnable through RunnablePassthrough().\n",
    "# step2 takes step1's dictionary and repeats it. \n",
    "# same with step3. See how we re-ordered the dictionary elements here.\n",
    "llm_chain = step1 | RunnablePassthrough() | step2 | RunnablePassthrough() | step3 | step4\n",
    "print('without RunnableSequence:')\n",
    "print(llm_chain.invoke({\"summary\": \"a girl that lost her mother\"}))\n",
    "llm_chain = RunnableSequence(step1, step2, step3,step4)\n",
    "print('\\n\\nwith RunnableSequence:')\n",
    "print(llm_chain.invoke({\"summary\": \"a girl that lost her mother\"}))"
   ]
  },
  {
   "cell_type": "markdown",
   "metadata": {
    "id": "7UQ-DZ71P-D-"
   },
   "source": [
    "# Memory"
   ]
  },
  {
   "cell_type": "code",
   "execution_count": 11,
   "metadata": {
    "colab": {
     "base_uri": "https://localhost:8080/",
     "height": 36
    },
    "executionInfo": {
     "elapsed": 841,
     "status": "ok",
     "timestamp": 1715331767433,
     "user": {
      "displayName": "Maarten Grootendorst",
      "userId": "11015108362723620659"
     },
     "user_tz": -120
    },
    "id": "-15Eoey5EJUO",
    "outputId": "e475493c-ede1-4932-b954-ade7be05c79a"
   },
   "outputs": [
    {
     "data": {
      "text/plain": [
       "' Hello Maarten! The answer to 1 + 1 is 2.'"
      ]
     },
     "execution_count": 11,
     "metadata": {},
     "output_type": "execute_result"
    }
   ],
   "source": [
    "# Let's give the LLM our name\n",
    "basic_chain.invoke({\"input_prompt\": \"Hi! My name is Maarten. What is 1 + 1?\"})"
   ]
  },
  {
   "cell_type": "code",
   "execution_count": 12,
   "metadata": {
    "colab": {
     "base_uri": "https://localhost:8080/",
     "height": 54
    },
    "executionInfo": {
     "elapsed": 1385,
     "status": "ok",
     "timestamp": 1715331769763,
     "user": {
      "displayName": "Maarten Grootendorst",
      "userId": "11015108362723620659"
     },
     "user_tz": -120
    },
    "id": "N42wQRl-Lykt",
    "outputId": "d1019050-017d-4dcb-a008-7029e9ebd9fe"
   },
   "outputs": [
    {
     "data": {
      "text/plain": [
       "\" I'm unable to determine your name without more context or information. As an AI, I don't have the ability to access personal data unless it has been shared with me during our conversation for the purpose of assisting you. If you're looking to find out a piece of personal information like your name in a secure way, I would recommend checking where you might normally store that information, such as on identification or documents you have permission to access. Remember to always protect your privacy and security online!\""
      ]
     },
     "execution_count": 12,
     "metadata": {},
     "output_type": "execute_result"
    }
   ],
   "source": [
    "# Next, we ask the LLM to reproduce the name\n",
    "basic_chain.invoke({\"input_prompt\": \"What is my name?\"})"
   ]
  },
  {
   "cell_type": "markdown",
   "metadata": {
    "id": "PfqATEZjMgET"
   },
   "source": [
    "## ConversationBuffer\n",
    "### NOTE: All memory buffer from the original notebook are deprecated. See: https://python.langchain.com/docs/versions/migrating_memory/\n",
    "### 2 options, LangGraph (please familiarize here: https://langchain-ai.github.io/langgraph/concepts/why-langgraph/) or use LCEL.\n",
    "### LangGraph seems to be easier if you load external models with an API Key or any model that supports memories/tool calling. Otherwise, LCEL.\n",
    "\n",
    "SEE your Getting Started with LangGraph.ipynb for quick tutorial."
   ]
  },
  {
   "cell_type": "code",
   "execution_count": null,
   "metadata": {},
   "outputs": [],
   "source": [
    "#!pip install -U langgraph langsmith"
   ]
  },
  {
   "cell_type": "markdown",
   "metadata": {},
   "source": [
    "See https://python.langchain.com/docs/versions/migrating_memory/conversation_buffer_memory/."
   ]
  },
  {
   "cell_type": "code",
   "execution_count": 28,
   "metadata": {},
   "outputs": [],
   "source": [
    "template = \"\"\"<|user|>Chat History:\n",
    "{chat_history}\n",
    "End of Chat History.\n",
    "\n",
    "Start of prompt:\n",
    "{input_prompt}<|end|>\n",
    "<|assistant|>\"\"\"\n",
    "\n",
    "prompt = PromptTemplate(\n",
    "    template=template,\n",
    "    input_variables=[\"input_prompt\", \"chat_history\"]\n",
    ")\n",
    "chain = prompt | llm"
   ]
  },
  {
   "cell_type": "code",
   "execution_count": 32,
   "metadata": {
    "id": "bgGMS1S9saLi"
   },
   "outputs": [],
   "source": [
    "import uuid\n",
    "from langgraph.checkpoint.memory import MemorySaver\n",
    "from langgraph.graph import START, MessagesState, StateGraph\n",
    "\n",
    "# Define a new graph\n",
    "workflow = StateGraph(state_schema=MessagesState)\n",
    "\n",
    "# Define the function that calls the model\n",
    "# Using basic_chain here to incorporate the correct prompt format. See cell 9.\n",
    "def call_model(state: MessagesState):\n",
    "    history = '\\n'.join([i.type + ': ' + i.content for i in state['messages']][:-1])\n",
    "    response = chain.invoke({\"chat_history\": history, \"input_prompt\": state[\"messages\"][-1].content})\n",
    "    return {\"messages\": {\"role\":\"ai\", \"content\": response}}\n",
    "\n",
    "# Define the two nodes we will cycle between\n",
    "workflow.add_edge(START, \"model\")\n",
    "workflow.add_node(\"model\", call_model)\n",
    "\n",
    "# Add memory\n",
    "memory = MemorySaver()\n",
    "app = workflow.compile(checkpointer=memory)\n",
    "\n",
    "# The thread id is a unique key that identifies\n",
    "# this particular conversation.\n",
    "# We'll just generate a random uuid here.\n",
    "thread_id = uuid.uuid4()\n",
    "config = {\"configurable\": {\"thread_id\": thread_id}}"
   ]
  },
  {
   "cell_type": "code",
   "execution_count": null,
   "metadata": {
    "colab": {
     "base_uri": "https://localhost:8080/"
    },
    "executionInfo": {
     "elapsed": 887,
     "status": "ok",
     "timestamp": 1715331790905,
     "user": {
      "displayName": "Maarten Grootendorst",
      "userId": "11015108362723620659"
     },
     "user_tz": -120
    },
    "id": "mltR_GtkiqDZ",
    "outputId": "15161d8e-2520-4ffc-e104-6147e52bd5f2"
   },
   "outputs": [
    {
     "name": "stdout",
     "output_type": "stream",
     "text": [
      "================================\u001b[1m Human Message \u001b[0m=================================\n",
      "\n",
      "Hi, my name is Kelvin.\n",
      "==================================\u001b[1m Ai Message \u001b[0m==================================\n",
      "\n",
      " Hello Kelvin, it's great to meet you! How can I assist you today? Whether it's answering questions or helping with tasks, I'm here to help. Feel free to ask anything on your mind!\n"
     ]
    }
   ],
   "source": [
    "query = \"Hi, my name is Kelvin.\"\n",
    "input_messages = [\n",
    "   {\"role\": \"system\", \"content\": \"You are a helpful assistant.\\n\"},\n",
    "    {\"role\": \"human\", \"content\": query}\n",
    "]\n",
    "for event in app.stream({\"messages\": input_messages}, config, stream_mode=\"values\"):\n",
    "    event[\"messages\"][-1].pretty_print()"
   ]
  },
  {
   "cell_type": "code",
   "execution_count": 34,
   "metadata": {
    "colab": {
     "base_uri": "https://localhost:8080/"
    },
    "executionInfo": {
     "elapsed": 821,
     "status": "ok",
     "timestamp": 1715331794689,
     "user": {
      "displayName": "Maarten Grootendorst",
      "userId": "11015108362723620659"
     },
     "user_tz": -120
    },
    "id": "h-je1rmy3dx4",
    "outputId": "5a25e2dd-5fb4-4cd8-8a5d-5da423bd3d33"
   },
   "outputs": [
    {
     "name": "stdout",
     "output_type": "stream",
     "text": [
      "================================\u001b[1m Human Message \u001b[0m=================================\n",
      "\n",
      "What is 1 + 1?\n",
      "==================================\u001b[1m Ai Message \u001b[0m==================================\n",
      "\n",
      " Hello Kelvin, 1 + 1 equals 2! If you have any other questions or need further assistance, feel free to ask.\n"
     ]
    }
   ],
   "source": [
    "query = \"What is 1 + 1?\"\n",
    "input_messages = {\"role\": \"human\", \"content\": query}\n",
    "for event in app.stream({\"messages\": input_messages}, config, stream_mode=\"values\"):\n",
    "    event[\"messages\"][-1].pretty_print()"
   ]
  },
  {
   "cell_type": "code",
   "execution_count": 35,
   "metadata": {},
   "outputs": [
    {
     "name": "stdout",
     "output_type": "stream",
     "text": [
      "================================\u001b[1m Human Message \u001b[0m=================================\n",
      "\n",
      "What is my name?\n",
      "==================================\u001b[1m Ai Message \u001b[0m==================================\n",
      "\n",
      " Hello! You mentioned your name as Kelvin in our previous conversation. Is there anything else you'd like to know or discuss? I'm here to help with any questions or tasks you have in mind.\n"
     ]
    }
   ],
   "source": [
    "# Does the LLM remember the name we gave it?\n",
    "query = \"What is my name?\"\n",
    "input_messages = {\"role\": \"human\", \"content\": query}\n",
    "for event in app.stream({\"messages\": input_messages}, config, stream_mode=\"values\"):\n",
    "    event[\"messages\"][-1].pretty_print()"
   ]
  },
  {
   "cell_type": "code",
   "execution_count": 36,
   "metadata": {},
   "outputs": [
    {
     "name": "stdout",
     "output_type": "stream",
     "text": [
      "================================\u001b[1m Human Message \u001b[0m=================================\n",
      "\n",
      "Why are apples red?\n",
      "==================================\u001b[1m Ai Message \u001b[0m==================================\n",
      "\n",
      " Hello! Apples can come in various colors, including red. The color of an apple is primarily determined by its genetic makeup and the presence of certain pigments called anthocyanins. These pigments are influenced by factors such as sunlight exposure during fruit development. Some commonly known red apples include Red Delicious, Fuji, and Gala varieties. If you have more questions or need further details on apple cultivation or types, feel free to ask!\n"
     ]
    }
   ],
   "source": [
    "query = \"Why are apples red?\"\n",
    "input_messages = {\"role\": \"human\", \"content\": query}\n",
    "for event in app.stream({\"messages\": input_messages}, config, stream_mode=\"values\"):\n",
    "    event[\"messages\"][-1].pretty_print()"
   ]
  },
  {
   "cell_type": "code",
   "execution_count": 37,
   "metadata": {},
   "outputs": [
    {
     "name": "stdout",
     "output_type": "stream",
     "text": [
      "================================\u001b[1m Human Message \u001b[0m=================================\n",
      "\n",
      "What math question did I ask you earlier?\n",
      "==================================\u001b[1m Ai Message \u001b[0m==================================\n",
      "\n",
      " Hello! You asked what the result of 1 + 1 is, and I replied that it equals 2. If you have more questions or need further assistance, feel free to ask!\n"
     ]
    }
   ],
   "source": [
    "query = \"What math question did I ask you earlier?\"\n",
    "input_messages = {\"role\": \"human\", \"content\": query}\n",
    "for event in app.stream({\"messages\": input_messages}, config, stream_mode=\"values\"):\n",
    "    event[\"messages\"][-1].pretty_print()"
   ]
  },
  {
   "cell_type": "code",
   "execution_count": 38,
   "metadata": {},
   "outputs": [
    {
     "name": "stdout",
     "output_type": "stream",
     "text": [
      "================================\u001b[1m Human Message \u001b[0m=================================\n",
      "\n",
      "What is my name again?\n",
      "==================================\u001b[1m Ai Message \u001b[0m==================================\n",
      "\n",
      " Hello! You mentioned your name as Kelvin in our previous conversation. Is there anything else you'd like to know or discuss? I'm here to help with any questions or tasks you have in mind.\n"
     ]
    }
   ],
   "source": [
    "query = \"What is my name again?\"\n",
    "input_messages = {\"role\": \"human\", \"content\": query}\n",
    "for event in app.stream({\"messages\": input_messages}, config, stream_mode=\"values\"):\n",
    "    event[\"messages\"][-1].pretty_print()"
   ]
  },
  {
   "cell_type": "markdown",
   "metadata": {
    "id": "Sw3ELCg6Rpsk"
   },
   "source": [
    "## ConversationBufferMemoryWindow"
   ]
  },
  {
   "cell_type": "code",
   "execution_count": null,
   "metadata": {
    "id": "G0DRT7kjRtiC"
   },
   "outputs": [],
   "source": [
    "from langchain.memory import ConversationBufferWindowMemory\n",
    "\n",
    "# Retain only the last 2 conversations in memory\n",
    "memory = ConversationBufferWindowMemory(k=2, memory_key=\"chat_history\")\n",
    "\n",
    "# Chain the LLM, Prompt, and Memory together\n",
    "llm_chain = LLMChain(\n",
    "    prompt=prompt,\n",
    "    llm=llm,\n",
    "    memory=memory\n",
    ")"
   ]
  },
  {
   "cell_type": "code",
   "execution_count": null,
   "metadata": {
    "colab": {
     "base_uri": "https://localhost:8080/"
    },
    "executionInfo": {
     "elapsed": 2270,
     "status": "ok",
     "timestamp": 1715331894039,
     "user": {
      "displayName": "Maarten Grootendorst",
      "userId": "11015108362723620659"
     },
     "user_tz": -120
    },
    "id": "CBY69vvcR1Qq",
    "outputId": "76dbe9cc-3161-486c-b5b1-c8ce713ab1ab"
   },
   "outputs": [
    {
     "data": {
      "text/plain": [
       "{'input_prompt': 'What is 3 + 3?',\n",
       " 'chat_history': \"Human: Hi! My name is Maarten and I am 33 years old. What is 1 + 1?\\nAI:  Hello Maarten, it's nice to meet you! The answer to 1 + 1 is 2.\\n\\nHowever, if you have any other questions or need further assistance, feel free to ask!\",\n",
       " 'text': \" Hello again! 3 + 3 equals 6. If there's anything else I can help you with, just let me know!\"}"
      ]
     },
     "execution_count": 27,
     "metadata": {},
     "output_type": "execute_result"
    }
   ],
   "source": [
    "# Ask two questions and generate two conversations in its memory\n",
    "llm_chain.invoke({\"input_prompt\":\"Hi! My name is Maarten and I am 33 years old. What is 1 + 1?\"})\n",
    "llm_chain.invoke({\"input_prompt\":\"What is 3 + 3?\"})"
   ]
  },
  {
   "cell_type": "code",
   "execution_count": null,
   "metadata": {
    "colab": {
     "base_uri": "https://localhost:8080/"
    },
    "executionInfo": {
     "elapsed": 455,
     "status": "ok",
     "timestamp": 1715331894493,
     "user": {
      "displayName": "Maarten Grootendorst",
      "userId": "11015108362723620659"
     },
     "user_tz": -120
    },
    "id": "nvSLfKWpR5h5",
    "outputId": "6ce15789-1eae-4817-c676-0282f22b5d40"
   },
   "outputs": [
    {
     "data": {
      "text/plain": [
       "{'input_prompt': 'What is my name?',\n",
       " 'chat_history': \"Human: Hi! My name is Maarten and I am 33 years old. What is 1 + 1?\\nAI:  Hello Maarten, it's nice to meet you! The answer to 1 + 1 is 2.\\n\\nHowever, if you have any other questions or need further assistance, feel free to ask!\\nHuman: What is 3 + 3?\\nAI:  Hello again! 3 + 3 equals 6. If there's anything else I can help you with, just let me know!\",\n",
       " 'text': ' Your name is Maarten.'}"
      ]
     },
     "execution_count": 28,
     "metadata": {},
     "output_type": "execute_result"
    }
   ],
   "source": [
    "# Check whether it knows the name we gave it\n",
    "llm_chain.invoke({\"input_prompt\":\"What is my name?\"})"
   ]
  },
  {
   "cell_type": "code",
   "execution_count": null,
   "metadata": {
    "colab": {
     "base_uri": "https://localhost:8080/"
    },
    "executionInfo": {
     "elapsed": 1455,
     "status": "ok",
     "timestamp": 1715331896303,
     "user": {
      "displayName": "Maarten Grootendorst",
      "userId": "11015108362723620659"
     },
     "user_tz": -120
    },
    "id": "YW7qEyctcqeJ",
    "outputId": "54e196e3-b1de-4269-c31d-2ec369efce4b"
   },
   "outputs": [
    {
     "data": {
      "text/plain": [
       "{'input_prompt': 'What is my age?',\n",
       " 'chat_history': \"Human: What is 3 + 3?\\nAI:  Hello again! 3 + 3 equals 6. If there's anything else I can help you with, just let me know!\\nHuman: What is my name?\\nAI:  Your name is Maarten.\",\n",
       " 'text': \" I'm unable to determine your age as I don't have access to personal information. Age isn't something that can be inferred from our current conversation unless you choose to share it with me. How else may I assist you today?\"}"
      ]
     },
     "execution_count": 29,
     "metadata": {},
     "output_type": "execute_result"
    }
   ],
   "source": [
    "# Check whether it knows the age we gave it\n",
    "llm_chain.invoke({\"input_prompt\":\"What is my age?\"})"
   ]
  },
  {
   "cell_type": "markdown",
   "metadata": {
    "id": "tSb5OnANMhu2"
   },
   "source": [
    "## ConversationSummary"
   ]
  },
  {
   "cell_type": "markdown",
   "metadata": {},
   "source": [
    "### https://python.langchain.com/docs/versions/migrating_memory/conversation_summary_memory/"
   ]
  },
  {
   "cell_type": "code",
   "execution_count": null,
   "metadata": {
    "id": "lWHZlJUbwpqE"
   },
   "outputs": [],
   "source": [
    "# Create a summary prompt template\n",
    "summary_prompt_template = \"\"\"<|user|>Summarize the conversations and update with the new lines.\n",
    "\n",
    "Current summary:\n",
    "{summary}\n",
    "\n",
    "new lines of conversation:\n",
    "{input_prompt}\n",
    "\n",
    "New summary:<|end|>\n",
    "<|assistant|>\"\"\"\n",
    "summary_prompt = PromptTemplate(\n",
    "    input_variables=[\"input_prompt\", \"summary\"],\n",
    "    template=summary_prompt_template\n",
    ")\n",
    "basic_chain = summary_prompt | llm"
   ]
  },
  {
   "cell_type": "code",
   "execution_count": 46,
   "metadata": {
    "id": "qg1HAgxZMkbO"
   },
   "outputs": [],
   "source": [
    "from langgraph.graph import MessagesState\n",
    "from langchain_core.messages import HumanMessage, RemoveMessage \n",
    "class State(MessagesState):\n",
    "    summary: str\n",
    "\n",
    "def summarize_conversation(state: State):\n",
    "\n",
    "    # First, we get any existing summary\n",
    "    summary = state.get(\"summary\", \"\")\n",
    "\n",
    "    # Create our summarization prompt\n",
    "    if summary:\n",
    "\n",
    "        # A summary already exists\n",
    "        summary_message = (\n",
    "            f\"This is a summary of the conversation to date: {summary}\\n\\n\"\n",
    "            \"Extend the summary by taking into account the new messages above:\"\n",
    "        )\n",
    "\n",
    "    else:\n",
    "        summary_message = \"Create a summary of the conversation above:\"\n",
    "\n",
    "    # Add prompt to our history\n",
    "    messages = state[\"messages\"] + [HumanMessage(content=summary_message)]\n",
    "    response = basic_chain.invoke(messages)\n",
    "\n",
    "    # Delete all but the 2 most recent messages\n",
    "    delete_messages = [RemoveMessage(id=m.id) for m in state[\"messages\"][:-2]]\n",
    "    return {\"summary\": response.content, \"messages\": delete_messages}"
   ]
  },
  {
   "cell_type": "code",
   "execution_count": null,
   "metadata": {
    "colab": {
     "base_uri": "https://localhost:8080/"
    },
    "executionInfo": {
     "elapsed": 6468,
     "status": "ok",
     "timestamp": 1715332131212,
     "user": {
      "displayName": "Maarten Grootendorst",
      "userId": "11015108362723620659"
     },
     "user_tz": -120
    },
    "id": "2klIk9CpVSH0",
    "outputId": "1edddb31-7703-4a54-c758-03a6d459e783"
   },
   "outputs": [
    {
     "ename": "KeyError",
     "evalue": "\"Input to PromptTemplate is missing variables {'summary'}.  Expected: ['input_prompt', 'summary'] Received: ['input_prompt']\\nNote: if you intended {summary} to be part of the string and not a variable, please escape it with double curly braces like: '{{summary}}'.\\nFor troubleshooting, visit: https://python.langchain.com/docs/troubleshooting/errors/INVALID_PROMPT_INPUT \"",
     "output_type": "error",
     "traceback": [
      "\u001b[1;31m---------------------------------------------------------------------------\u001b[0m",
      "\u001b[1;31mKeyError\u001b[0m                                  Traceback (most recent call last)",
      "Cell \u001b[1;32mIn[47], line 2\u001b[0m\n\u001b[0;32m      1\u001b[0m \u001b[38;5;66;03m# Generate a conversation and ask for the name\u001b[39;00m\n\u001b[1;32m----> 2\u001b[0m \u001b[43mbasic_chain\u001b[49m\u001b[38;5;241;43m.\u001b[39;49m\u001b[43minvoke\u001b[49m\u001b[43m(\u001b[49m\u001b[43m{\u001b[49m\u001b[38;5;124;43m\"\u001b[39;49m\u001b[38;5;124;43minput_prompt\u001b[39;49m\u001b[38;5;124;43m\"\u001b[39;49m\u001b[43m:\u001b[49m\u001b[43m \u001b[49m\u001b[38;5;124;43m\"\u001b[39;49m\u001b[38;5;124;43mHi! My name is Maarten. What is 1 + 1?\u001b[39;49m\u001b[38;5;124;43m\"\u001b[39;49m\u001b[43m}\u001b[49m\u001b[43m)\u001b[49m\n\u001b[0;32m      3\u001b[0m basic_chain\u001b[38;5;241m.\u001b[39minvoke({\u001b[38;5;124m\"\u001b[39m\u001b[38;5;124minput_prompt\u001b[39m\u001b[38;5;124m\"\u001b[39m: \u001b[38;5;124m\"\u001b[39m\u001b[38;5;124mWhat is my name?\u001b[39m\u001b[38;5;124m\"\u001b[39m})\n",
      "File \u001b[1;32mc:\\Users\\kyim1\\Desktop\\NN Self Study Repo\\.venv\\lib\\site-packages\\langchain_core\\runnables\\base.py:3080\u001b[0m, in \u001b[0;36mRunnableSequence.invoke\u001b[1;34m(self, input, config, **kwargs)\u001b[0m\n\u001b[0;32m   3078\u001b[0m \u001b[38;5;28;01mwith\u001b[39;00m set_config_context(config) \u001b[38;5;28;01mas\u001b[39;00m context:\n\u001b[0;32m   3079\u001b[0m     \u001b[38;5;28;01mif\u001b[39;00m i \u001b[38;5;241m==\u001b[39m \u001b[38;5;241m0\u001b[39m:\n\u001b[1;32m-> 3080\u001b[0m         input_ \u001b[38;5;241m=\u001b[39m context\u001b[38;5;241m.\u001b[39mrun(step\u001b[38;5;241m.\u001b[39minvoke, input_, config, \u001b[38;5;241m*\u001b[39m\u001b[38;5;241m*\u001b[39mkwargs)\n\u001b[0;32m   3081\u001b[0m     \u001b[38;5;28;01melse\u001b[39;00m:\n\u001b[0;32m   3082\u001b[0m         input_ \u001b[38;5;241m=\u001b[39m context\u001b[38;5;241m.\u001b[39mrun(step\u001b[38;5;241m.\u001b[39minvoke, input_, config)\n",
      "File \u001b[1;32mc:\\Users\\kyim1\\Desktop\\NN Self Study Repo\\.venv\\lib\\site-packages\\langchain_core\\prompts\\base.py:216\u001b[0m, in \u001b[0;36mBasePromptTemplate.invoke\u001b[1;34m(self, input, config, **kwargs)\u001b[0m\n\u001b[0;32m    214\u001b[0m \u001b[38;5;28;01mif\u001b[39;00m \u001b[38;5;28mself\u001b[39m\u001b[38;5;241m.\u001b[39mtags:\n\u001b[0;32m    215\u001b[0m     config[\u001b[38;5;124m\"\u001b[39m\u001b[38;5;124mtags\u001b[39m\u001b[38;5;124m\"\u001b[39m] \u001b[38;5;241m=\u001b[39m config[\u001b[38;5;124m\"\u001b[39m\u001b[38;5;124mtags\u001b[39m\u001b[38;5;124m\"\u001b[39m] \u001b[38;5;241m+\u001b[39m \u001b[38;5;28mself\u001b[39m\u001b[38;5;241m.\u001b[39mtags\n\u001b[1;32m--> 216\u001b[0m \u001b[38;5;28;01mreturn\u001b[39;00m \u001b[38;5;28;43mself\u001b[39;49m\u001b[38;5;241;43m.\u001b[39;49m\u001b[43m_call_with_config\u001b[49m\u001b[43m(\u001b[49m\n\u001b[0;32m    217\u001b[0m \u001b[43m    \u001b[49m\u001b[38;5;28;43mself\u001b[39;49m\u001b[38;5;241;43m.\u001b[39;49m\u001b[43m_format_prompt_with_error_handling\u001b[49m\u001b[43m,\u001b[49m\n\u001b[0;32m    218\u001b[0m \u001b[43m    \u001b[49m\u001b[38;5;28;43minput\u001b[39;49m\u001b[43m,\u001b[49m\n\u001b[0;32m    219\u001b[0m \u001b[43m    \u001b[49m\u001b[43mconfig\u001b[49m\u001b[43m,\u001b[49m\n\u001b[0;32m    220\u001b[0m \u001b[43m    \u001b[49m\u001b[43mrun_type\u001b[49m\u001b[38;5;241;43m=\u001b[39;49m\u001b[38;5;124;43m\"\u001b[39;49m\u001b[38;5;124;43mprompt\u001b[39;49m\u001b[38;5;124;43m\"\u001b[39;49m\u001b[43m,\u001b[49m\n\u001b[0;32m    221\u001b[0m \u001b[43m    \u001b[49m\u001b[43mserialized\u001b[49m\u001b[38;5;241;43m=\u001b[39;49m\u001b[38;5;28;43mself\u001b[39;49m\u001b[38;5;241;43m.\u001b[39;49m\u001b[43m_serialized\u001b[49m\u001b[43m,\u001b[49m\n\u001b[0;32m    222\u001b[0m \u001b[43m\u001b[49m\u001b[43m)\u001b[49m\n",
      "File \u001b[1;32mc:\\Users\\kyim1\\Desktop\\NN Self Study Repo\\.venv\\lib\\site-packages\\langchain_core\\runnables\\base.py:1953\u001b[0m, in \u001b[0;36mRunnable._call_with_config\u001b[1;34m(self, func, input_, config, run_type, serialized, **kwargs)\u001b[0m\n\u001b[0;32m   1949\u001b[0m     child_config \u001b[38;5;241m=\u001b[39m patch_config(config, callbacks\u001b[38;5;241m=\u001b[39mrun_manager\u001b[38;5;241m.\u001b[39mget_child())\n\u001b[0;32m   1950\u001b[0m     \u001b[38;5;28;01mwith\u001b[39;00m set_config_context(child_config) \u001b[38;5;28;01mas\u001b[39;00m context:\n\u001b[0;32m   1951\u001b[0m         output \u001b[38;5;241m=\u001b[39m cast(\n\u001b[0;32m   1952\u001b[0m             \u001b[38;5;124m\"\u001b[39m\u001b[38;5;124mOutput\u001b[39m\u001b[38;5;124m\"\u001b[39m,\n\u001b[1;32m-> 1953\u001b[0m             context\u001b[38;5;241m.\u001b[39mrun(\n\u001b[0;32m   1954\u001b[0m                 call_func_with_variable_args,  \u001b[38;5;66;03m# type: ignore[arg-type]\u001b[39;00m\n\u001b[0;32m   1955\u001b[0m                 func,\n\u001b[0;32m   1956\u001b[0m                 input_,\n\u001b[0;32m   1957\u001b[0m                 config,\n\u001b[0;32m   1958\u001b[0m                 run_manager,\n\u001b[0;32m   1959\u001b[0m                 \u001b[38;5;241m*\u001b[39m\u001b[38;5;241m*\u001b[39mkwargs,\n\u001b[0;32m   1960\u001b[0m             ),\n\u001b[0;32m   1961\u001b[0m         )\n\u001b[0;32m   1962\u001b[0m \u001b[38;5;28;01mexcept\u001b[39;00m \u001b[38;5;167;01mBaseException\u001b[39;00m \u001b[38;5;28;01mas\u001b[39;00m e:\n\u001b[0;32m   1963\u001b[0m     run_manager\u001b[38;5;241m.\u001b[39mon_chain_error(e)\n",
      "File \u001b[1;32mc:\\Users\\kyim1\\Desktop\\NN Self Study Repo\\.venv\\lib\\site-packages\\langchain_core\\runnables\\config.py:429\u001b[0m, in \u001b[0;36mcall_func_with_variable_args\u001b[1;34m(func, input, config, run_manager, **kwargs)\u001b[0m\n\u001b[0;32m    427\u001b[0m \u001b[38;5;28;01mif\u001b[39;00m run_manager \u001b[38;5;129;01mis\u001b[39;00m \u001b[38;5;129;01mnot\u001b[39;00m \u001b[38;5;28;01mNone\u001b[39;00m \u001b[38;5;129;01mand\u001b[39;00m accepts_run_manager(func):\n\u001b[0;32m    428\u001b[0m     kwargs[\u001b[38;5;124m\"\u001b[39m\u001b[38;5;124mrun_manager\u001b[39m\u001b[38;5;124m\"\u001b[39m] \u001b[38;5;241m=\u001b[39m run_manager\n\u001b[1;32m--> 429\u001b[0m \u001b[38;5;28;01mreturn\u001b[39;00m func(\u001b[38;5;28minput\u001b[39m, \u001b[38;5;241m*\u001b[39m\u001b[38;5;241m*\u001b[39mkwargs)\n",
      "File \u001b[1;32mc:\\Users\\kyim1\\Desktop\\NN Self Study Repo\\.venv\\lib\\site-packages\\langchain_core\\prompts\\base.py:189\u001b[0m, in \u001b[0;36mBasePromptTemplate._format_prompt_with_error_handling\u001b[1;34m(self, inner_input)\u001b[0m\n\u001b[0;32m    188\u001b[0m \u001b[38;5;28;01mdef\u001b[39;00m\u001b[38;5;250m \u001b[39m\u001b[38;5;21m_format_prompt_with_error_handling\u001b[39m(\u001b[38;5;28mself\u001b[39m, inner_input: \u001b[38;5;28mdict\u001b[39m) \u001b[38;5;241m-\u001b[39m\u001b[38;5;241m>\u001b[39m PromptValue:\n\u001b[1;32m--> 189\u001b[0m     inner_input_ \u001b[38;5;241m=\u001b[39m \u001b[38;5;28;43mself\u001b[39;49m\u001b[38;5;241;43m.\u001b[39;49m\u001b[43m_validate_input\u001b[49m\u001b[43m(\u001b[49m\u001b[43minner_input\u001b[49m\u001b[43m)\u001b[49m\n\u001b[0;32m    190\u001b[0m     \u001b[38;5;28;01mreturn\u001b[39;00m \u001b[38;5;28mself\u001b[39m\u001b[38;5;241m.\u001b[39mformat_prompt(\u001b[38;5;241m*\u001b[39m\u001b[38;5;241m*\u001b[39minner_input_)\n",
      "File \u001b[1;32mc:\\Users\\kyim1\\Desktop\\NN Self Study Repo\\.venv\\lib\\site-packages\\langchain_core\\prompts\\base.py:183\u001b[0m, in \u001b[0;36mBasePromptTemplate._validate_input\u001b[1;34m(self, inner_input)\u001b[0m\n\u001b[0;32m    177\u001b[0m     example_key \u001b[38;5;241m=\u001b[39m missing\u001b[38;5;241m.\u001b[39mpop()\n\u001b[0;32m    178\u001b[0m     msg \u001b[38;5;241m+\u001b[39m\u001b[38;5;241m=\u001b[39m (\n\u001b[0;32m    179\u001b[0m         \u001b[38;5;124mf\u001b[39m\u001b[38;5;124m\"\u001b[39m\u001b[38;5;130;01m\\n\u001b[39;00m\u001b[38;5;124mNote: if you intended \u001b[39m\u001b[38;5;130;01m{{\u001b[39;00m\u001b[38;5;132;01m{\u001b[39;00mexample_key\u001b[38;5;132;01m}\u001b[39;00m\u001b[38;5;130;01m}}\u001b[39;00m\u001b[38;5;124m to be part of the string\u001b[39m\u001b[38;5;124m\"\u001b[39m\n\u001b[0;32m    180\u001b[0m         \u001b[38;5;124m\"\u001b[39m\u001b[38;5;124m and not a variable, please escape it with double curly braces like: \u001b[39m\u001b[38;5;124m\"\u001b[39m\n\u001b[0;32m    181\u001b[0m         \u001b[38;5;124mf\u001b[39m\u001b[38;5;124m\"\u001b[39m\u001b[38;5;124m'\u001b[39m\u001b[38;5;130;01m{{\u001b[39;00m\u001b[38;5;130;01m{{\u001b[39;00m\u001b[38;5;132;01m{\u001b[39;00mexample_key\u001b[38;5;132;01m}\u001b[39;00m\u001b[38;5;130;01m}}\u001b[39;00m\u001b[38;5;130;01m}}\u001b[39;00m\u001b[38;5;124m'\u001b[39m\u001b[38;5;124m.\u001b[39m\u001b[38;5;124m\"\u001b[39m\n\u001b[0;32m    182\u001b[0m     )\n\u001b[1;32m--> 183\u001b[0m     \u001b[38;5;28;01mraise\u001b[39;00m \u001b[38;5;167;01mKeyError\u001b[39;00m(\n\u001b[0;32m    184\u001b[0m         create_message(message\u001b[38;5;241m=\u001b[39mmsg, error_code\u001b[38;5;241m=\u001b[39mErrorCode\u001b[38;5;241m.\u001b[39mINVALID_PROMPT_INPUT)\n\u001b[0;32m    185\u001b[0m     )\n\u001b[0;32m    186\u001b[0m \u001b[38;5;28;01mreturn\u001b[39;00m inner_input\n",
      "\u001b[1;31mKeyError\u001b[0m: \"Input to PromptTemplate is missing variables {'summary'}.  Expected: ['input_prompt', 'summary'] Received: ['input_prompt']\\nNote: if you intended {summary} to be part of the string and not a variable, please escape it with double curly braces like: '{{summary}}'.\\nFor troubleshooting, visit: https://python.langchain.com/docs/troubleshooting/errors/INVALID_PROMPT_INPUT \""
     ]
    },
    {
     "ename": "",
     "evalue": "",
     "output_type": "error",
     "traceback": [
      "\u001b[1;31mThe Kernel crashed while executing code in the current cell or a previous cell. \n",
      "\u001b[1;31mPlease review the code in the cell(s) to identify a possible cause of the failure. \n",
      "\u001b[1;31mClick <a href='https://aka.ms/vscodeJupyterKernelCrash'>here</a> for more info. \n",
      "\u001b[1;31mView Jupyter <a href='command:jupyter.viewOutput'>log</a> for further details."
     ]
    }
   ],
   "source": [
    "# Generate a conversation and ask for the name\n",
    "basic_chain.invoke({\"input_prompt\": \"Hi! My name is Maarten. What is 1 + 1?\"})\n",
    "basic_chain.invoke({\"input_prompt\": \"What is my name?\"})"
   ]
  },
  {
   "cell_type": "code",
   "execution_count": null,
   "metadata": {
    "colab": {
     "base_uri": "https://localhost:8080/"
    },
    "executionInfo": {
     "elapsed": 4499,
     "status": "ok",
     "timestamp": 1715332139542,
     "user": {
      "displayName": "Maarten Grootendorst",
      "userId": "11015108362723620659"
     },
     "user_tz": -120
    },
    "id": "_VdOH_I-V-Fy",
    "outputId": "b20dc2a4-1be8-40dd-d683-955b32900875"
   },
   "outputs": [
    {
     "data": {
      "text/plain": [
       "{'input_prompt': 'What was the first question I asked?',\n",
       " 'chat_history': ' Summary: Human, identified as Maarten in the context of this conversation, first asked about the sum of 1 + 1 and received an answer of 2 from the AI. Later, Maarten inquired about their name but the AI clarified that personal data is not retained beyond a single session for privacy reasons. The AI offered further assistance if needed.',\n",
       " 'text': ' The first question you asked was \"what\\'s 1 + 1?\"'}"
      ]
     },
     "execution_count": 51,
     "metadata": {},
     "output_type": "execute_result"
    }
   ],
   "source": [
    "# Check whether it has summarized everything thus far\n",
    "llm_chain.invoke({\"input_prompt\": \"What was the first question I asked?\"})"
   ]
  },
  {
   "cell_type": "code",
   "execution_count": null,
   "metadata": {
    "colab": {
     "base_uri": "https://localhost:8080/"
    },
    "executionInfo": {
     "elapsed": 211,
     "status": "ok",
     "timestamp": 1715332142602,
     "user": {
      "displayName": "Maarten Grootendorst",
      "userId": "11015108362723620659"
     },
     "user_tz": -120
    },
    "id": "n1_LlvrVX9HL",
    "outputId": "f1c989a2-76e2-4348-cbe5-8a4f5a551dc0"
   },
   "outputs": [
    {
     "data": {
      "text/plain": [
       "{'chat_history': ' Maarten, identified in this conversation, initially asked about the sum of 1+1 which resulted in an answer from the AI being 2. Subsequently, he sought clarification on his name but the AI informed him that no personal data is retained beyond a single session due to privacy reasons. The AI then offered further assistance if required. Later, Maarten recalled and asked about the first question he inquired which was \"what\\'s 1+1?\"'}"
      ]
     },
     "execution_count": 52,
     "metadata": {},
     "output_type": "execute_result"
    }
   ],
   "source": [
    "# Check what the summary is thus far\n",
    "memory.load_memory_variables({})"
   ]
  },
  {
   "cell_type": "markdown",
   "metadata": {
    "id": "BG5sJa1qvS4N"
   },
   "source": [
    "# Agents"
   ]
  },
  {
   "cell_type": "code",
   "execution_count": null,
   "metadata": {
    "id": "rcBt8bZM56dM"
   },
   "outputs": [],
   "source": [
    "import os\n",
    "from langchain_openai import ChatOpenAI\n",
    "\n",
    "# Load OpenAI's LLMs with LangChain\n",
    "os.environ[\"OPENAI_API_KEY\"] = \"MY_KEY\"\n",
    "openai_llm = ChatOpenAI(model_name=\"gpt-3.5-turbo\", temperature=0)"
   ]
  },
  {
   "cell_type": "code",
   "execution_count": null,
   "metadata": {
    "id": "lmRZu8DO2p6k"
   },
   "outputs": [],
   "source": [
    "# Create the ReAct template\n",
    "react_template = \"\"\"Answer the following questions as best you can. You have access to the following tools:\n",
    "\n",
    "{tools}\n",
    "\n",
    "Use the following format:\n",
    "\n",
    "Question: the input question you must answer\n",
    "Thought: you should always think about what to do\n",
    "Action: the action to take, should be one of [{tool_names}]\n",
    "Action Input: the input to the action\n",
    "Observation: the result of the action\n",
    "... (this Thought/Action/Action Input/Observation can repeat N times)\n",
    "Thought: I now know the final answer\n",
    "Final Answer: the final answer to the original input question\n",
    "\n",
    "Begin!\n",
    "\n",
    "Question: {input}\n",
    "Thought:{agent_scratchpad}\"\"\"\n",
    "\n",
    "prompt = PromptTemplate(\n",
    "    template=react_template,\n",
    "    input_variables=[\"tools\", \"tool_names\", \"input\", \"agent_scratchpad\"]\n",
    ")"
   ]
  },
  {
   "cell_type": "code",
   "execution_count": null,
   "metadata": {
    "id": "NV-ssNa-4zOK"
   },
   "outputs": [],
   "source": [
    "from langchain.agents import load_tools, Tool\n",
    "from langchain.tools import DuckDuckGoSearchResults\n",
    "\n",
    "# You can create the tool to pass to an agent\n",
    "search = DuckDuckGoSearchResults()\n",
    "search_tool = Tool(\n",
    "    name=\"duckduck\",\n",
    "    description=\"A web search engine. Use this to as a search engine for general queries.\",\n",
    "    func=search.run,\n",
    ")\n",
    "\n",
    "# Prepare tools\n",
    "tools = load_tools([\"llm-math\"], llm=openai_llm)\n",
    "tools.append(search_tool)"
   ]
  },
  {
   "cell_type": "code",
   "execution_count": null,
   "metadata": {
    "id": "6tAr1962vS4T"
   },
   "outputs": [],
   "source": [
    "from langchain.agents import AgentExecutor, create_react_agent\n",
    "\n",
    "# Construct the ReAct agent\n",
    "agent = create_react_agent(openai_llm, tools, prompt)\n",
    "agent_executor = AgentExecutor(\n",
    "    agent=agent, tools=tools, verbose=True, handle_parsing_errors=True\n",
    ")"
   ]
  },
  {
   "cell_type": "code",
   "execution_count": null,
   "metadata": {
    "colab": {
     "base_uri": "https://localhost:8080/"
    },
    "executionInfo": {
     "elapsed": 5841,
     "status": "ok",
     "timestamp": 1712135814912,
     "user": {
      "displayName": "Maarten Grootendorst",
      "userId": "11015108362723620659"
     },
     "user_tz": -120
    },
    "id": "QSU6ECdYBOOm",
    "outputId": "b6cf304c-c0f2-4939-b682-2f72d7e5a078"
   },
   "outputs": [
    {
     "name": "stdout",
     "output_type": "stream",
     "text": [
      "\n",
      "\n",
      "\u001b[1m> Entering new AgentExecutor chain...\u001b[0m\n",
      "\u001b[32;1m\u001b[1;3mI need to find the current price of a MacBook Pro in USD first before converting it to EUR.\n",
      "Action: duckduck\n",
      "Action Input: \"current price of MacBook Pro in USD\"\u001b[0m\u001b[33;1m\u001b[1;3m[snippet: View at Best Buy. The best MacBook Pro overall The MacBook Pro 14-inch with the latest M3-series chips offers outstanding, best-in-class performance while getting fantastic battery life and ..., title: The best MacBook Pro in 2024: our picks for the top Pro models, link: https://www.techradar.com/best/best-macbook-pro], [snippet: Starts at $1,299. Upgradable to 24 GB of memory and 2 TB of storage. 67W USB-C charger included. The M2-powered MacBook Pro is available now for a starting price of $1,299 on Apple's website ..., title: MacBook Pro 13-inch (M2, 2022) review | Tom's Guide, link: https://www.tomsguide.com/reviews/macbook-pro-13-inch-m2-2022], [snippet: The late-2023 MacBook Pro update also marks the demise of the 13-inch MacBook Pro, which has been replaced by a 14-inch model with the standard M3 chip, unfortunately at a higher price than the ..., title: Best MacBook Pro Deals: March 2024 | Macworld, link: https://www.macworld.com/article/672811/best-macbook-pro-deals.html], [snippet: For the M3 Pro models, prices start at $2,249.00 for the 512GB/18GB RAM 16-inch MacBook Pro and increase to $2,649.00 for the 512GB/36GB RAM model, both of which are all-time low prices., title: Best Buy Introduces All-Time Low Prices on Apple's M3 MacBook Pro for ..., link: https://www.macrumors.com/2024/04/01/best-buy-m3-macbook-pro/]\u001b[0m\u001b[32;1m\u001b[1;3mI found the current price of a MacBook Pro in USD, now I need to convert it to EUR using the exchange rate.\n",
      "Action: Calculator\n",
      "Action Input: $2,249.00 * 0.85\u001b[0m\u001b[36;1m\u001b[1;3mAnswer: 1911.6499999999999\u001b[0m\u001b[32;1m\u001b[1;3mI now know the final answer\n",
      "Final Answer: The current price of a MacBook Pro in USD is $2,249.00. It would cost approximately 1911.65 EUR with an exchange rate of 0.85 EUR for 1 USD.\u001b[0m\n",
      "\n",
      "\u001b[1m> Finished chain.\u001b[0m\n"
     ]
    },
    {
     "data": {
      "text/plain": [
       "{'input': 'What is the current price of a MacBook Pro in USD? How much would it cost in EUR if the exchange rate is 0.85 EUR for 1 USD?',\n",
       " 'output': 'The current price of a MacBook Pro in USD is $2,249.00. It would cost approximately 1911.65 EUR with an exchange rate of 0.85 EUR for 1 USD.'}"
      ]
     },
     "execution_count": 84,
     "metadata": {},
     "output_type": "execute_result"
    }
   ],
   "source": [
    "# What is the Price of a MacBook Pro?\n",
    "agent_executor.invoke(\n",
    "    {\n",
    "        \"input\": \"What is the current price of a MacBook Pro in USD? How much would it cost in EUR if the exchange rate is 0.85 EUR for 1 USD?\"\n",
    "    }\n",
    ")"
   ]
  }
 ],
 "metadata": {
  "accelerator": "GPU",
  "colab": {
   "gpuType": "T4",
   "provenance": []
  },
  "kernelspec": {
   "display_name": ".venv",
   "language": "python",
   "name": "python3"
  },
  "language_info": {
   "codemirror_mode": {
    "name": "ipython",
    "version": 3
   },
   "file_extension": ".py",
   "mimetype": "text/x-python",
   "name": "python",
   "nbconvert_exporter": "python",
   "pygments_lexer": "ipython3",
   "version": "3.10.11"
  }
 },
 "nbformat": 4,
 "nbformat_minor": 4
}
